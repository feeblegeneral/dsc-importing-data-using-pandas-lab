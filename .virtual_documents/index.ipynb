


# Import pandas using the standard alias



# Import the file and print the first 5 rows
df = None



# Print the last 5 rows of df



# What is going on with this data set? Anything unusual?


# Clean up the dataset






# Hint: Here's a useful programming pattern to use
try:
    # Do something
except Exception as e:
    # Handle your exception e



